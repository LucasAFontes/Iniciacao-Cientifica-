{
 "cells": [
  {
   "cell_type": "code",
   "execution_count": 1,
   "id": "067e0166",
   "metadata": {
    "collapsed": true
   },
   "outputs": [
    {
     "name": "stderr",
     "output_type": "stream",
     "text": [
      "C:\\Users\\thari\\anaconda3\\Lib\\site-packages\\libpysal\\cg\\alpha_shapes.py:38: NumbaDeprecationWarning: \u001b[1mThe 'nopython' keyword argument was not supplied to the 'numba.jit' decorator. The implicit default value for this argument is currently False, but it will be changed to True in Numba 0.59.0. See https://numba.readthedocs.io/en/stable/reference/deprecation.html#deprecation-of-object-mode-fall-back-behaviour-when-using-jit for details.\u001b[0m\n",
      "  @jit\n",
      "C:\\Users\\thari\\anaconda3\\Lib\\site-packages\\libpysal\\cg\\alpha_shapes.py:164: NumbaDeprecationWarning: \u001b[1mThe 'nopython' keyword argument was not supplied to the 'numba.jit' decorator. The implicit default value for this argument is currently False, but it will be changed to True in Numba 0.59.0. See https://numba.readthedocs.io/en/stable/reference/deprecation.html#deprecation-of-object-mode-fall-back-behaviour-when-using-jit for details.\u001b[0m\n",
      "  @jit\n",
      "C:\\Users\\thari\\anaconda3\\Lib\\site-packages\\libpysal\\cg\\alpha_shapes.py:198: NumbaDeprecationWarning: \u001b[1mThe 'nopython' keyword argument was not supplied to the 'numba.jit' decorator. The implicit default value for this argument is currently False, but it will be changed to True in Numba 0.59.0. See https://numba.readthedocs.io/en/stable/reference/deprecation.html#deprecation-of-object-mode-fall-back-behaviour-when-using-jit for details.\u001b[0m\n",
      "  @jit\n",
      "C:\\Users\\thari\\anaconda3\\Lib\\site-packages\\libpysal\\cg\\alpha_shapes.py:260: NumbaDeprecationWarning: \u001b[1mThe 'nopython' keyword argument was not supplied to the 'numba.jit' decorator. The implicit default value for this argument is currently False, but it will be changed to True in Numba 0.59.0. See https://numba.readthedocs.io/en/stable/reference/deprecation.html#deprecation-of-object-mode-fall-back-behaviour-when-using-jit for details.\u001b[0m\n",
      "  @jit\n",
      "C:\\Users\\thari\\anaconda3\\Lib\\site-packages\\libpysal\\weights\\util.py:23: UserWarning: geopandas not available. Some functionality will be disabled.\n",
      "  warn(\"geopandas not available. Some functionality will be disabled.\")\n"
     ]
    }
   ],
   "source": [
    "#Importando Biblotecas Necessárias para a análise\n",
    "import pandas as pd\n",
    "import numpy as np\n",
    "import libpysal as lps\n",
    "from spreg import ML_Lag\n",
    "from esda.moran import Moran, Moran_Local\n"
   ]
  },
  {
   "cell_type": "code",
   "execution_count": 2,
   "id": "44a7d35c",
   "metadata": {},
   "outputs": [],
   "source": [
    "# Coordenadas das subprefeituras\n",
    "coordenadas = pd.read_csv('coordenadas.csv')\n",
    "\n",
    "# Nomes das subprefeituras\n",
    "subprefeituras = [\n",
    "    'Lapa', 'Pinheiros', 'Butantã', 'Itaim Paulista', 'Vila Mariana', 'Santo Amaro', 'Jabaquara', 'Sé',\n",
    "    'Vila Maria/Vila Guilherme', 'Santana/Tucuruvi', 'Jaçanã/Tremembé', 'Moóca', 'Sapopemba', 'Vila Prudente',\n",
    "    'Penha', 'Aricanduva/Formosa/Carrão', 'Perus', 'Freguesia do Ó/Brasilândia', 'Casa Verde/Cachoeirinha',\n",
    "    'Pirituba', 'Itaquera', 'Ermelino Matarazzo', 'Guaianases', 'São Mateus', 'Ipiranga', 'São Miguel',\n",
    "    'Cidade Tiradentes', 'Campo Limpo', 'Cidade Ademar', 'Capela do Socorro', 'Parelheiros', 'M\\'Boi Mirim'\n",
    "]\n",
    "\n",
    "# Verificando se as listas têm o mesmo comprimento\n",
    "assert len(coordenadas['Latitude']) == len(coordenadas['Longitude']) == len(subprefeituras), \"As listas devem ter o mesmo comprimento.\"\n",
    "\n",
    "# criando um DataFrame para as subprefeituras\n",
    "df_subprefeituras = pd.DataFrame({\n",
    "    'Subprefeitura': subprefeituras,\n",
    "    'Latitude': coordenadas['Latitude'],\n",
    "    'Longitude': coordenadas['Longitude']\n",
    "})\n",
    "\n",
    "# Lendo dados de renda correspondendo ao número de subprefeituras\n",
    "data = pd.read_csv('renda.csv')\n",
    "  \n",
    "# Adicionando os dados de renda ao DataFrame\n",
    "df_subprefeituras['Renda'] = data['Renda']"
   ]
  },
  {
   "cell_type": "code",
   "execution_count": 3,
   "id": "2e4ee56a",
   "metadata": {
    "collapsed": true
   },
   "outputs": [
    {
     "name": "stderr",
     "output_type": "stream",
     "text": [
      "C:\\Users\\thari\\anaconda3\\Lib\\site-packages\\scipy\\optimize\\_minimize.py:892: RuntimeWarning: Method 'bounded' does not support relative tolerance in x; defaulting to absolute tolerance.\n",
      "  warn(\"Method 'bounded' does not support relative tolerance in x; \"\n"
     ]
    }
   ],
   "source": [
    "# Criando a matriz de pesos espaciais\n",
    "coords = df_subprefeituras[['Latitude', 'Longitude']].values\n",
    "k = 3\n",
    "w = lps.weights.KNN(coords, k)\n",
    "\n",
    "# Criando um modelo SAR (Spatial Autoregressive Model)\n",
    "sar_model = ML_Lag(y=df_subprefeituras['Renda'].values, x=df_subprefeituras[['Latitude', 'Longitude']].values, w=w, name_x=['Latitude', 'Longitude'])\n",
    "\n",
    "# Ajustando o modelo SAR\n",
    "sar_results = sar_model\n",
    "\n",
    "# Calcule os valores previstos\n",
    "valores_previstos = sar_results.predy.flatten()"
   ]
  },
  {
   "cell_type": "code",
   "execution_count": 4,
   "id": "1be89842",
   "metadata": {},
   "outputs": [],
   "source": [
    "# Calculando o efeito de spillover (diferença entre valores reais e previstos)\n",
    "efeito_spillover = df_subprefeituras['Renda'].values - valores_previstos"
   ]
  },
  {
   "cell_type": "code",
   "execution_count": 5,
   "id": "a2e94035",
   "metadata": {},
   "outputs": [
    {
     "name": "stdout",
     "output_type": "stream",
     "text": [
      "Índice de Moran Global: 0.06774558653121264\n",
      "Valor esperado sob aleatoriedade: -0.03225806451612903\n",
      "Valor-p: 0.21\n"
     ]
    }
   ],
   "source": [
    "# Realizando a análise de autocorrelação espacial global\n",
    "moran = Moran(efeito_spillover, w)\n",
    "print(\"Índice de Moran Global:\", moran.I)\n",
    "print(\"Valor esperado sob aleatoriedade:\", moran.EI)\n",
    "print(\"Valor-p:\", moran.p_sim)"
   ]
  },
  {
   "cell_type": "code",
   "execution_count": 7,
   "id": "de4e482a",
   "metadata": {},
   "outputs": [
    {
     "name": "stdout",
     "output_type": "stream",
     "text": [
      "Clusters Espaciais Significativos: [ True False False False False  True False False False False False False\n",
      " False False False False False False False False False False False False\n",
      " False False False False False False False False]\n"
     ]
    }
   ],
   "source": [
    "# Calculando a análise de autocorrelação espacial local\n",
    "moran_local = Moran_Local(efeito_spillover, w)\n",
    "\n",
    "# Você pode examinar os clusters espaciais significativos com base no Moran Local\n",
    "significant_clusters = moran_local.p_sim < 0.05\n",
    "print(\"Clusters Espaciais Significativos:\", significant_clusters)"
   ]
  },
  {
   "cell_type": "code",
   "execution_count": 8,
   "id": "12926f25",
   "metadata": {},
   "outputs": [
    {
     "name": "stdout",
     "output_type": "stream",
     "text": [
      "Grau de Spillover: 0.20711706939570818\n"
     ]
    }
   ],
   "source": [
    "# Grau de spillover\n",
    "spillover = sar_results.rho\n",
    "print(\"Grau de Spillover:\", spillover)"
   ]
  },
  {
   "cell_type": "code",
   "execution_count": null,
   "id": "08074739",
   "metadata": {},
   "outputs": [],
   "source": []
  }
 ],
 "metadata": {
  "kernelspec": {
   "display_name": "Python 3",
   "language": "python",
   "name": "python3"
  },
  "language_info": {
   "codemirror_mode": {
    "name": "ipython",
    "version": 3
   },
   "file_extension": ".py",
   "mimetype": "text/x-python",
   "name": "python",
   "nbconvert_exporter": "python",
   "pygments_lexer": "ipython3",
   "version": "3.8.8"
  }
 },
 "nbformat": 4,
 "nbformat_minor": 5
}
